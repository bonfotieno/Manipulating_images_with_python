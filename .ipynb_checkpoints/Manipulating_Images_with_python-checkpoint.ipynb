{
 "cells": [
  {
   "cell_type": "markdown",
   "metadata": {
    "collapsed": true
   },
   "source": [
    "# Manipulating Images with pillow"
   ]
  },
  {
   "cell_type": "code",
   "execution_count": 3,
   "metadata": {},
   "outputs": [],
   "source": [
    "# before running any other cells, make sure to run this one first\n",
    "\n",
    "from PIL import *"
   ]
  },
  {
   "cell_type": "markdown",
   "metadata": {},
   "source": [
    "### getting RGBA values of some known colors"
   ]
  },
  {
   "cell_type": "code",
   "execution_count": 4,
   "metadata": {},
   "outputs": [
    {
     "data": {
      "text/plain": [
       "(255, 0, 0, 255)"
      ]
     },
     "execution_count": 4,
     "metadata": {},
     "output_type": "execute_result"
    }
   ],
   "source": [
    "ImageColor.getcolor('red','RGBA')"
   ]
  },
  {
   "cell_type": "code",
   "execution_count": 5,
   "metadata": {},
   "outputs": [
    {
     "data": {
      "text/plain": [
       "(0, 0, 0, 255)"
      ]
     },
     "execution_count": 5,
     "metadata": {},
     "output_type": "execute_result"
    }
   ],
   "source": [
    "ImageColor.getcolor('Black','RGBA')"
   ]
  },
  {
   "cell_type": "code",
   "execution_count": 6,
   "metadata": {},
   "outputs": [
    {
     "data": {
      "text/plain": [
       "(210, 105, 30, 255)"
      ]
     },
     "execution_count": 6,
     "metadata": {},
     "output_type": "execute_result"
    }
   ],
   "source": [
    "ImageColor.getcolor('chocolate','RGBA')"
   ]
  },
  {
   "cell_type": "code",
   "execution_count": 8,
   "metadata": {},
   "outputs": [
    {
     "data": {
      "text/plain": [
       "(100, 149, 237, 255)"
      ]
     },
     "execution_count": 8,
     "metadata": {},
     "output_type": "execute_result"
    }
   ],
   "source": [
    "ImageColor.getcolor('Cornflowerblue','RGBA')"
   ]
  },
  {
   "cell_type": "markdown",
   "metadata": {},
   "source": [
    "#### when selecting a position of an image in pillow we use four turples representing a box (left,top,right,bottom)\n",
    "__Left:__ The x-coordinate of the leftmost\n",
    "edge of the box.<br>\n",
    "__Top:__ The y-coordinate of the top edge\n",
    "of the box.<br>\n",
    "__Right:__ The x-coordinate of one pixel\n",
    "to the right of the rightmost edge of\n",
    "the box. This integer must be greater\n",
    "than the left integer.<br>\n",
    "__Bottom:__ The y-coordinate of one pixel\n",
    "lower than the bottom edge of the\n",
    "box. This integer must be greater\n",
    "than the top integer."
   ]
  },
  {
   "cell_type": "markdown",
   "metadata": {},
   "source": [
    "### Manipulating an Image"
   ]
  },
  {
   "cell_type": "code",
   "execution_count": 25,
   "metadata": {},
   "outputs": [],
   "source": [
    "img = Image.open('images\\\\original.png')\n"
   ]
  },
  {
   "cell_type": "markdown",
   "metadata": {},
   "source": [
    "### getting the image attributes"
   ]
  },
  {
   "cell_type": "code",
   "execution_count": 10,
   "metadata": {},
   "outputs": [
    {
     "data": {
      "text/plain": [
       "(512, 512)"
      ]
     },
     "execution_count": 10,
     "metadata": {},
     "output_type": "execute_result"
    }
   ],
   "source": [
    "img.size"
   ]
  },
  {
   "cell_type": "code",
   "execution_count": 12,
   "metadata": {},
   "outputs": [
    {
     "name": "stdout",
     "output_type": "stream",
     "text": [
      "512 512\n"
     ]
    }
   ],
   "source": [
    "width, height = img.size\n",
    "print(width, height)"
   ]
  },
  {
   "cell_type": "code",
   "execution_count": 13,
   "metadata": {},
   "outputs": [
    {
     "data": {
      "text/plain": [
       "'images\\\\original.png'"
      ]
     },
     "execution_count": 13,
     "metadata": {},
     "output_type": "execute_result"
    }
   ],
   "source": [
    "img.filename"
   ]
  },
  {
   "cell_type": "code",
   "execution_count": 14,
   "metadata": {},
   "outputs": [
    {
     "data": {
      "text/plain": [
       "'PNG'"
      ]
     },
     "execution_count": 14,
     "metadata": {},
     "output_type": "execute_result"
    }
   ],
   "source": [
    "img.format"
   ]
  },
  {
   "cell_type": "code",
   "execution_count": 15,
   "metadata": {},
   "outputs": [
    {
     "data": {
      "text/plain": [
       "'Portable network graphics'"
      ]
     },
     "execution_count": 15,
     "metadata": {},
     "output_type": "execute_result"
    }
   ],
   "source": [
    "img.format_description"
   ]
  },
  {
   "cell_type": "code",
   "execution_count": 26,
   "metadata": {},
   "outputs": [],
   "source": [
    "img.save('images\\\\original.jpg',) # save the image as another format"
   ]
  },
  {
   "cell_type": "markdown",
   "metadata": {},
   "source": [
    "### creating a new image and saving it"
   ]
  },
  {
   "cell_type": "code",
   "execution_count": 29,
   "metadata": {},
   "outputs": [],
   "source": [
    "img1 = Image.new('RGBA', (600, 200), 'pink')\n",
    "img1.save('images\\\\pinkImage.png')"
   ]
  },
  {
   "cell_type": "code",
   "execution_count": 30,
   "metadata": {},
   "outputs": [],
   "source": [
    "img3 = Image.new('RGBA', (30,30))\n",
    "img1.save('images\\\\transparentImage.png')"
   ]
  },
  {
   "cell_type": "markdown",
   "metadata": {},
   "source": [
    "### cropping images"
   ]
  },
  {
   "cell_type": "code",
   "execution_count": 34,
   "metadata": {},
   "outputs": [],
   "source": [
    "croppedImg = img.crop((192,0,320,126))\n",
    "croppedImg.save('images\\\\cropped.png')"
   ]
  },
  {
   "cell_type": "markdown",
   "metadata": {},
   "source": [
    "### Copying and Pasting Images onto Other Images"
   ]
  },
  {
   "cell_type": "code",
   "execution_count": 32,
   "metadata": {},
   "outputs": [],
   "source": [
    "imgCopy = img.copy() # returns another image the same asimg"
   ]
  },
  {
   "cell_type": "code",
   "execution_count": 41,
   "metadata": {},
   "outputs": [],
   "source": [
    "# despite their names, copy and paste methods do not utilize the clipboard\n",
    "# transparent pixels are pasted as white pixels; use mask: imgCopy.paste(logo,(0,0),logo)\n",
    "# doing the pasting of an image(logo) to another image(imgCopy)\n",
    "logo = Image.open('images\\\\logo.png')\n",
    "imgCopy.paste(logo,(0,0))         # (0,0) is the pixel position on imgCopy\n",
    "imgCopy.paste(croppedImg,(0,386))\n",
    "imgCopy.save('images\\\\originalWithLogo.png')"
   ]
  },
  {
   "cell_type": "markdown",
   "metadata": {},
   "source": [
    "### Resizing an Image"
   ]
  },
  {
   "cell_type": "code",
   "execution_count": 43,
   "metadata": {},
   "outputs": [],
   "source": [
    "width, height = img.size\n",
    "quartersizedImg = img.resize((int(width / 2), int(height / 2)))\n",
    "quartersizedImg.save('images\\\\quartersizedImg.png')\n",
    "svelteImg = img.resize((width, height+300))\n",
    "svelteImg.save('images\\\\svelte.png')"
   ]
  },
  {
   "cell_type": "markdown",
   "metadata": {},
   "source": [
    "### Rotating and Flipping Images"
   ]
  },
  {
   "cell_type": "code",
   "execution_count": 46,
   "metadata": {},
   "outputs": [],
   "source": [
    "img.rotate(90).save('images\\\\rotated90.png')\n",
    "img.rotate(180).save('images\\\\rotated180.png')\n",
    "img.rotate(270).save('images\\\\rotated270.png')\n",
    "img.rotate(6, expand=True).save('images\\\\rotated6_expanded.png') # expands to fit the entire rotated new image"
   ]
  },
  {
   "cell_type": "code",
   "execution_count": 47,
   "metadata": {},
   "outputs": [],
   "source": [
    "img.transpose(Image.FLIP_LEFT_RIGHT).save('images\\\\horizontal_flip.png')\n",
    "img.transpose(Image.FLIP_TOP_BOTTOM).save('images\\\\vertical_flip.png')"
   ]
  },
  {
   "cell_type": "markdown",
   "metadata": {},
   "source": [
    "### Changing Individual Pixels"
   ]
  },
  {
   "cell_type": "code",
   "execution_count": 48,
   "metadata": {},
   "outputs": [
    {
     "data": {
      "text/plain": [
       "(0, 0, 0, 0)"
      ]
     },
     "execution_count": 48,
     "metadata": {},
     "output_type": "execute_result"
    }
   ],
   "source": [
    "im = Image.new('RGBA',(100, 100))\n",
    "im.getpixel((0,0))"
   ]
  },
  {
   "cell_type": "code",
   "execution_count": 50,
   "metadata": {},
   "outputs": [],
   "source": [
    "for x in range(100):\n",
    "    for y in range(50):\n",
    "        im.putpixel((x, y), (210, 210, 210))"
   ]
  },
  {
   "cell_type": "code",
   "execution_count": 51,
   "metadata": {},
   "outputs": [],
   "source": [
    "for x in range(100):\n",
    "    for y in range(50, 100):\n",
    "        im.putpixel((x, y), ImageColor.getcolor('darkgray', 'RGBA'))"
   ]
  },
  {
   "cell_type": "code",
   "execution_count": 52,
   "metadata": {},
   "outputs": [
    {
     "data": {
      "text/plain": [
       "(210, 210, 210, 255)"
      ]
     },
     "execution_count": 52,
     "metadata": {},
     "output_type": "execute_result"
    }
   ],
   "source": [
    "im.getpixel((0, 0))"
   ]
  },
  {
   "cell_type": "code",
   "execution_count": 53,
   "metadata": {},
   "outputs": [
    {
     "data": {
      "text/plain": [
       "(169, 169, 169, 255)"
      ]
     },
     "execution_count": 53,
     "metadata": {},
     "output_type": "execute_result"
    }
   ],
   "source": [
    "im.getpixel((0, 50))"
   ]
  },
  {
   "cell_type": "code",
   "execution_count": 4,
   "metadata": {},
   "outputs": [],
   "source": [
    "im.save('images\\\\putPixel.png')"
   ]
  },
  {
   "cell_type": "markdown",
   "metadata": {},
   "source": [
    "### Drawing on Images"
   ]
  },
  {
   "cell_type": "code",
   "execution_count": 1,
   "metadata": {},
   "outputs": [],
   "source": [
    "# we use ImageDraw module\n",
    "from PIL import Image, ImageDraw\n",
    "im = Image.new('RGBA', (200,200), 'white')\n",
    "draw = ImageDraw.Draw(im)"
   ]
  },
  {
   "cell_type": "markdown",
   "metadata": {},
   "source": [
    "### Drawing Shapes\n",
    "### Points\n",
    "The point(xy, fill) method draws individual pixels. The xy argument\n",
    "represents a list of the points you want to draw. The list can be a list of\n",
    "x- and y-coordinate tuples, such as [(x, y), (x, y), ...], or a list of x- and\n",
    "y-coordinates\n",
    "without tuples, such as [x1, y1, x2, y2, ...]. The fill argument\n",
    "is the color of the points and is either an RGBA tuple or a string of\n",
    "a color name, such as 'red'. The fill argument is optional.\n",
    "\n",
    "### Lines\n",
    "The line(xy, fill, width) method draws a line or series of lines. xy is either\n",
    "a list of tuples, such as [(x, y), (x, y), ...], or a list of integers, such as\n",
    "[x1, y1, x2, y2, ...]. Each point is one of the connecting points on the\n",
    "Manipulating Images 407\n",
    "lines you’re drawing. The optional fill argument is the color of the lines,\n",
    "as an RGBA tuple or color name. The optional width argument is the width\n",
    "of the lines and defaults to 1 if left unspecified.\n",
    "\n",
    "### Rectangles\n",
    "The rectangle(xy, fill, outline) method draws a rectangle. The xy argument\n",
    "is a box tuple of the form (left, top, right, bottom). The left and top\n",
    "values specify the x- and y-coordinates of the upper-left corner of the rectangle,\n",
    "while right and bottom specify the lower-right corner. The optional\n",
    "fill argument is the color that will fill the inside of the rectangle. The\n",
    "optional outline argument is the color of the rectangle’s outline.\n",
    "\n",
    "### Ellipses\n",
    "The ellipse(xy, fill, outline) method draws an ellipse. If the width and\n",
    "height of the ellipse are identical, this method will draw a circle. The xy\n",
    "argument is a box tuple (left, top, right, bottom) that represents a box that\n",
    "precisely contains the ellipse. The optional fill argument is the color of the\n",
    "inside of the ellipse, and the optional outline argument is the color of the\n",
    "ellipse’s outline.\n",
    "\n",
    "### Polygons\n",
    "The polygon(xy, fill, outline) method draws an arbitrary polygon. The xy\n",
    "argument is a list of tuples, such as [(x, y), (x, y), ...], or integers, such\n",
    "as [x1, y1, x2, y2, ...], representing the connecting points of the polygon’s\n",
    "sides. The last pair of coordinates will be automatically connected to the\n",
    "first pair. The optional fill argument is the color of the inside of the polygon,\n",
    "and the optional outline argument is the color of the polygon’s outline.\n",
    "\n",
    "#### EXAMPLES:"
   ]
  },
  {
   "cell_type": "code",
   "execution_count": 3,
   "metadata": {},
   "outputs": [],
   "source": [
    "im = Image.new('RGBA', (200, 200), 'white')\n",
    "draw = ImageDraw.Draw(im)\n",
    "draw.line([(0, 0), (199, 0), (199, 199), (0, 199), (0, 0)], fill='black')\n",
    "draw.rectangle((20, 30, 60, 60), fill='blue')\n",
    "draw.ellipse((120, 30, 160, 60), fill='red')\n",
    "draw.polygon(((57, 87), (79, 62), (94, 85), (120, 90), (103, 113)),fill='brown')"
   ]
  },
  {
   "cell_type": "code",
   "execution_count": 5,
   "metadata": {},
   "outputs": [],
   "source": [
    "for i in range(100, 200, 10):\n",
    "    draw.line([(i, 0), (200, i - 100)], fill='green')\n",
    "im.save('images\\\\drawing.png')"
   ]
  },
  {
   "cell_type": "markdown",
   "metadata": {},
   "source": [
    "### Drawing Text"
   ]
  },
  {
   "cell_type": "code",
   "execution_count": 6,
   "metadata": {},
   "outputs": [],
   "source": [
    "from PIL import Image, ImageDraw, ImageFont\n",
    "import os\n",
    "im = Image.new('RGBA', (200, 200), 'white')\n",
    "draw = ImageDraw.Draw(im)\n",
    "draw.text((20, 150), 'botienWorks', fill='purple')\n",
    "fontsFolder = 'FONT_FOLDER' # e.g. ‘/Library/Fonts’\n",
    "arialFont = ImageFont.truetype(os.path.join(fontsFolder, 'arial.ttf'), 32)\n",
    "draw.text((100, 150), 'botien', fill='gray', font=arialFont)\n",
    "im.save('images\\\\text.png')"
   ]
  }
 ],
 "metadata": {
  "kernelspec": {
   "display_name": "Python 3",
   "language": "python",
   "name": "python3"
  },
  "language_info": {
   "codemirror_mode": {
    "name": "ipython",
    "version": 3
   },
   "file_extension": ".py",
   "mimetype": "text/x-python",
   "name": "python",
   "nbconvert_exporter": "python",
   "pygments_lexer": "ipython3",
   "version": "3.7.6"
  }
 },
 "nbformat": 4,
 "nbformat_minor": 1
}
